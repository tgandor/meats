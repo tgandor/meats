{
 "cells": [
  {
   "cell_type": "code",
   "execution_count": 7,
   "metadata": {
    "ExecuteTime": {
     "end_time": "2021-04-29T08:42:37.392882Z",
     "start_time": "2021-04-29T08:42:37.386869Z"
    }
   },
   "outputs": [],
   "source": [
    "import os\n",
    "import cv2\n",
    "import matplotlib.pyplot as plt\n",
    "import numpy as np\n",
    "from PIL import Image\n",
    "from PIL import ImageDraw\n",
    "from PIL import ImageFont\n",
    "from skimage.metrics import structural_similarity, peak_signal_noise_ratio\n",
    "from jpeg import mogrify_degrade, opencv_degrade\n",
    "\n",
    "URL = 'https://upload.wikimedia.org/wikipedia/commons/d/d3/PSNR-example-base.png'\n",
    "Qs = [10, 30, 90]"
   ]
  },
  {
   "cell_type": "code",
   "execution_count": 8,
   "metadata": {
    "ExecuteTime": {
     "end_time": "2021-04-29T08:42:37.667716Z",
     "start_time": "2021-04-29T08:42:37.651776Z"
    }
   },
   "outputs": [],
   "source": [
    "def download(url) -> str:\n",
    "    \"\"\"Retrieve the file at url, save it locally and return the path.\"\"\"\n",
    "    basename = os.path.basename(url)\n",
    "    if os.path.exists(basename):\n",
    "        return basename\n",
    "\n",
    "    from urllib.request import urlopen\n",
    "    print('Downloading: {}'.format(basename))\n",
    "\n",
    "    with urlopen(url) as response, open(basename, 'wb') as output:\n",
    "        output.write(response.read())\n",
    "\n",
    "    return basename\n",
    "\n",
    "def opencv_degrade(orig, filename, q, grayscale=False):\n",
    "    img = cv2.imread(\n",
    "        orig,\n",
    "        cv2.IMREAD_GRAYSCALE if grayscale else cv2.IMREAD_UNCHANGED,\n",
    "    )\n",
    "    cv2.imwrite(filename, img, [cv2.IMWRITE_JPEG_QUALITY, q])"
   ]
  },
  {
   "cell_type": "code",
   "execution_count": 13,
   "metadata": {
    "ExecuteTime": {
     "end_time": "2021-04-29T08:44:58.117016Z",
     "start_time": "2021-04-29T08:44:58.092290Z"
    },
    "code_folding": []
   },
   "outputs": [],
   "source": [
    "def load(filename):\n",
    "    img = Image.open(filename).convert(\"RGB\")\n",
    "    return img\n",
    "\n",
    "def generate_images(filename, Qs):\n",
    "    result = {'orig': load(filename)}\n",
    "    for Q in Qs:\n",
    "        out = f\"Q{Q}_{os.path.splitext(filename)[0]}.jpg\"\n",
    "        opencv_degrade(filename, out, Q)\n",
    "        result[Q] = load(out)\n",
    "    return result\n",
    "\n",
    "def draw_tiles(rows, hgap=10, vgap=10, captions=None):\n",
    "    img_w = max(img.width for row in rows for img in row)\n",
    "    img_h = max(img.height for row in rows for img in row)\n",
    "    n_rows = len(rows)\n",
    "    n_cols = max(len(row) for row in rows)\n",
    "    \n",
    "    off_w = img_w + hgap\n",
    "    off_h = img_h + vgap\n",
    "    canv_w = off_w * n_cols - hgap\n",
    "    canv_h = off_h * n_rows - (0 if captions else vgap)  # (leaving room for captions)\n",
    "    canvas = Image.new(\"RGB\", (canv_w, canv_h), color=(255, 255, 255))\n",
    "    \n",
    "    \n",
    "    for r, row in enumerate(rows):\n",
    "        for c, img in enumerate(row):\n",
    "            canvas.paste(img, (c * off_w, r * off_h))\n",
    "            \n",
    "    if captions:\n",
    "        d = ImageDraw.Draw(canvas)\n",
    "        fnt = ImageFont.truetype(\"Ubuntu-L.ttf\", vgap * 2 // 3)\n",
    "        for r, row in enumerate(captions):\n",
    "            for c, caption in enumerate(row):\n",
    "                d.text((off_w * c + hgap, off_h * r + img_h + 1), caption, fill=(0, 0, 0), font=fnt)\n",
    "    \n",
    "    return canvas\n",
    "\n",
    "def ssim(img1: Image, img2: Image, gray=False) -> float:\n",
    "    if gray:\n",
    "        img1 = img1.convert(\"L\")\n",
    "        img2 = img2.convert(\"L\")\n",
    "    return structural_similarity(np.array(img1), np.array(img2), multichannel=not gray)\n",
    "\n",
    "def psnr(img1, img2, gray=False):\n",
    "    if gray:\n",
    "        img1 = img1.convert(\"L\")\n",
    "        img2 = img2.convert(\"L\")\n",
    "    return peak_signal_noise_ratio(np.array(img1), np.array(img2))"
   ]
  },
  {
   "cell_type": "code",
   "execution_count": 14,
   "metadata": {
    "ExecuteTime": {
     "end_time": "2021-04-29T08:45:00.466385Z",
     "start_time": "2021-04-29T08:44:59.743493Z"
    }
   },
   "outputs": [],
   "source": [
    "orig = generate_images(ORIG, Qs)"
   ]
  },
  {
   "cell_type": "code",
   "execution_count": 15,
   "metadata": {
    "ExecuteTime": {
     "end_time": "2021-04-29T08:47:47.893566Z",
     "start_time": "2021-04-29T08:47:43.978983Z"
    }
   },
   "outputs": [
    {
     "name": "stdout",
     "output_type": "stream",
     "text": [
      "{'Q': 10, 'PSNR': 28.77028635497755, 'SSIM': 0.8516931177017346, 'PSNR_L': 31.448226433237302, 'SSIM_L': 0.8799162142539958}\n",
      "{'Q': 30, 'PSNR': 33.13845605784299, 'SSIM': 0.9217806333971129, 'PSNR_L': 36.80667955166063, 'SSIM_L': 0.9483089882373851}\n",
      "{'Q': 90, 'PSNR': 38.58898392271544, 'SSIM': 0.9687070837089792, 'PSNR_L': 45.612177609530605, 'SSIM_L': 0.9888889939803718}\n"
     ]
    }
   ],
   "source": [
    "for q in Qs:\n",
    "    data = {\n",
    "        'Q': q,\n",
    "        'PSNR': psnr(orig['orig'], orig[q]),\n",
    "        'SSIM': ssim(orig['orig'], orig[q]),\n",
    "        'PSNR_L': psnr(orig['orig'], orig[q], True),\n",
    "        'SSIM_L': ssim(orig['orig'], orig[q], True),\n",
    "    }\n",
    "    print(data)"
   ]
  },
  {
   "cell_type": "markdown",
   "metadata": {},
   "source": [
    "The PSNR_L (PSNR of Luma) matches the data from the Wikipedia example."
   ]
  }
 ],
 "metadata": {
  "kernelspec": {
   "display_name": "Python 3",
   "language": "python",
   "name": "python3"
  },
  "language_info": {
   "codemirror_mode": {
    "name": "ipython",
    "version": 3
   },
   "file_extension": ".py",
   "mimetype": "text/x-python",
   "name": "python",
   "nbconvert_exporter": "python",
   "pygments_lexer": "ipython3",
   "version": "3.7.6"
  },
  "toc": {
   "base_numbering": 1,
   "nav_menu": {},
   "number_sections": true,
   "sideBar": true,
   "skip_h1_title": false,
   "title_cell": "Table of Contents",
   "title_sidebar": "Contents",
   "toc_cell": false,
   "toc_position": {},
   "toc_section_display": true,
   "toc_window_display": false
  }
 },
 "nbformat": 4,
 "nbformat_minor": 4
}
